{
 "cells": [
  {
   "cell_type": "markdown",
   "id": "a0c9d534-f55b-4497-b032-d814de753ac9",
   "metadata": {},
   "source": []
  },
  {
   "cell_type": "markdown",
   "id": "5ff510b0-a29b-489d-a0e0-d41b28609912",
   "metadata": {},
   "source": [
    "We'll now look at how we can 1) assemble a time series of imagery with stackstac and rioxarray and 2) calculate statistics of areas of interest within the time series. In order to accomplish this, we'll first need to define an area of interest that we will use to query and download our time series. \n",
    "\n",
    "We'll focus on farms in the Netherlands, the 2nd largest exporter of agricultural goods. Public Services on the Map (PDOK) provides [annual maps of cropland for Netherlands](https://service.pdok.nl/rvo/brpgewaspercelen/atom/v1_0/basisregistratie_gewaspercelen_brp.xml)."
   ]
  },
  {
   "cell_type": "code",
   "execution_count": 7,
   "id": "176f4b3b-f67c-4955-b8e6-d81ac9a12e06",
   "metadata": {},
   "outputs": [],
   "source": [
    "classes = gpd.read_file(\"../data/farms_amsterdam_2021-source-brp_pdok.shp\")['category'].unique()"
   ]
  },
  {
   "cell_type": "code",
   "execution_count": 16,
   "id": "671af01b-f25e-4630-ad79-15ebf6761112",
   "metadata": {},
   "outputs": [],
   "source": [
    "import geopandas as gpd\n",
    "\n",
    "farms = gpd.read_file(\"../data/farms_amsterdam_2021-source-brp_pdok.shp\")"
   ]
  },
  {
   "cell_type": "markdown",
   "id": "075d8756-ba58-48ff-b82c-9ac16d06d8e9",
   "metadata": {},
   "source": [
    "Let's inspect our spatial data of farms."
   ]
  },
  {
   "cell_type": "code",
   "execution_count": 18,
   "id": "2f6a155a-9c1f-41bc-9b66-00d03126647d",
   "metadata": {},
   "outputs": [
    {
     "data": {
      "text/html": [
       "<div>\n",
       "<style scoped>\n",
       "    .dataframe tbody tr th:only-of-type {\n",
       "        vertical-align: middle;\n",
       "    }\n",
       "\n",
       "    .dataframe tbody tr th {\n",
       "        vertical-align: top;\n",
       "    }\n",
       "\n",
       "    .dataframe thead th {\n",
       "        text-align: right;\n",
       "    }\n",
       "</style>\n",
       "<table border=\"1\" class=\"dataframe\">\n",
       "  <thead>\n",
       "    <tr style=\"text-align: right;\">\n",
       "      <th></th>\n",
       "      <th>id</th>\n",
       "      <th>category</th>\n",
       "      <th>gewas</th>\n",
       "      <th>gewascode</th>\n",
       "      <th>jaar</th>\n",
       "      <th>status</th>\n",
       "      <th>geometry</th>\n",
       "    </tr>\n",
       "  </thead>\n",
       "  <tbody>\n",
       "    <tr>\n",
       "      <th>0</th>\n",
       "      <td>667.0</td>\n",
       "      <td>Grasland</td>\n",
       "      <td>Grasland, blijvend</td>\n",
       "      <td>265</td>\n",
       "      <td>2021</td>\n",
       "      <td>Voorgesteld</td>\n",
       "      <td>POLYGON Z ((130081.907 495197.053 0.000, 13001...</td>\n",
       "    </tr>\n",
       "    <tr>\n",
       "      <th>1</th>\n",
       "      <td>894.0</td>\n",
       "      <td>Grasland</td>\n",
       "      <td>Grasland, blijvend</td>\n",
       "      <td>265</td>\n",
       "      <td>2021</td>\n",
       "      <td>Voorgesteld</td>\n",
       "      <td>POLYGON Z ((127163.634 495965.555 0.000, 12716...</td>\n",
       "    </tr>\n",
       "    <tr>\n",
       "      <th>2</th>\n",
       "      <td>1547.0</td>\n",
       "      <td>Grasland</td>\n",
       "      <td>Grasland, blijvend</td>\n",
       "      <td>265</td>\n",
       "      <td>2021</td>\n",
       "      <td>Voorgesteld</td>\n",
       "      <td>POLYGON Z ((128839.449 489607.228 0.000, 12883...</td>\n",
       "    </tr>\n",
       "    <tr>\n",
       "      <th>3</th>\n",
       "      <td>1783.0</td>\n",
       "      <td>Grasland</td>\n",
       "      <td>Grasland, blijvend</td>\n",
       "      <td>265</td>\n",
       "      <td>2021</td>\n",
       "      <td>Voorgesteld</td>\n",
       "      <td>POLYGON Z ((130436.562 495110.489 0.000, 13044...</td>\n",
       "    </tr>\n",
       "    <tr>\n",
       "      <th>4</th>\n",
       "      <td>1784.0</td>\n",
       "      <td>Grasland</td>\n",
       "      <td>Grasland, blijvend</td>\n",
       "      <td>265</td>\n",
       "      <td>2021</td>\n",
       "      <td>Voorgesteld</td>\n",
       "      <td>POLYGON Z ((130348.889 495569.052 0.000, 13033...</td>\n",
       "    </tr>\n",
       "    <tr>\n",
       "      <th>...</th>\n",
       "      <td>...</td>\n",
       "      <td>...</td>\n",
       "      <td>...</td>\n",
       "      <td>...</td>\n",
       "      <td>...</td>\n",
       "      <td>...</td>\n",
       "      <td>...</td>\n",
       "    </tr>\n",
       "    <tr>\n",
       "      <th>3023</th>\n",
       "      <td>763681.0</td>\n",
       "      <td>Grasland</td>\n",
       "      <td>Grasland, blijvend</td>\n",
       "      <td>265</td>\n",
       "      <td>2021</td>\n",
       "      <td>Voorgesteld</td>\n",
       "      <td>POLYGON Z ((126890.842 492959.327 0.000, 12689...</td>\n",
       "    </tr>\n",
       "    <tr>\n",
       "      <th>3024</th>\n",
       "      <td>763682.0</td>\n",
       "      <td>Grasland</td>\n",
       "      <td>Grasland, blijvend</td>\n",
       "      <td>265</td>\n",
       "      <td>2021</td>\n",
       "      <td>Voorgesteld</td>\n",
       "      <td>POLYGON Z ((126625.084 492891.611 0.000, 12662...</td>\n",
       "    </tr>\n",
       "    <tr>\n",
       "      <th>3025</th>\n",
       "      <td>763683.0</td>\n",
       "      <td>Grasland</td>\n",
       "      <td>Grasland, blijvend</td>\n",
       "      <td>265</td>\n",
       "      <td>2021</td>\n",
       "      <td>Voorgesteld</td>\n",
       "      <td>POLYGON Z ((126650.961 493224.888 0.000, 12665...</td>\n",
       "    </tr>\n",
       "    <tr>\n",
       "      <th>3026</th>\n",
       "      <td>763684.0</td>\n",
       "      <td>Grasland</td>\n",
       "      <td>Grasland, blijvend</td>\n",
       "      <td>265</td>\n",
       "      <td>2021</td>\n",
       "      <td>Voorgesteld</td>\n",
       "      <td>POLYGON Z ((127373.919 494141.769 0.000, 12737...</td>\n",
       "    </tr>\n",
       "    <tr>\n",
       "      <th>3027</th>\n",
       "      <td>763744.0</td>\n",
       "      <td>Grasland</td>\n",
       "      <td>Grasland, blijvend</td>\n",
       "      <td>265</td>\n",
       "      <td>2021</td>\n",
       "      <td>Voorgesteld</td>\n",
       "      <td>POLYGON Z ((122855.215 495633.891 0.000, 12285...</td>\n",
       "    </tr>\n",
       "  </tbody>\n",
       "</table>\n",
       "<p>3028 rows × 7 columns</p>\n",
       "</div>"
      ],
      "text/plain": [
       "            id  category               gewas  gewascode  jaar       status  \\\n",
       "0        667.0  Grasland  Grasland, blijvend        265  2021  Voorgesteld   \n",
       "1        894.0  Grasland  Grasland, blijvend        265  2021  Voorgesteld   \n",
       "2       1547.0  Grasland  Grasland, blijvend        265  2021  Voorgesteld   \n",
       "3       1783.0  Grasland  Grasland, blijvend        265  2021  Voorgesteld   \n",
       "4       1784.0  Grasland  Grasland, blijvend        265  2021  Voorgesteld   \n",
       "...        ...       ...                 ...        ...   ...          ...   \n",
       "3023  763681.0  Grasland  Grasland, blijvend        265  2021  Voorgesteld   \n",
       "3024  763682.0  Grasland  Grasland, blijvend        265  2021  Voorgesteld   \n",
       "3025  763683.0  Grasland  Grasland, blijvend        265  2021  Voorgesteld   \n",
       "3026  763684.0  Grasland  Grasland, blijvend        265  2021  Voorgesteld   \n",
       "3027  763744.0  Grasland  Grasland, blijvend        265  2021  Voorgesteld   \n",
       "\n",
       "                                               geometry  \n",
       "0     POLYGON Z ((130081.907 495197.053 0.000, 13001...  \n",
       "1     POLYGON Z ((127163.634 495965.555 0.000, 12716...  \n",
       "2     POLYGON Z ((128839.449 489607.228 0.000, 12883...  \n",
       "3     POLYGON Z ((130436.562 495110.489 0.000, 13044...  \n",
       "4     POLYGON Z ((130348.889 495569.052 0.000, 13033...  \n",
       "...                                                 ...  \n",
       "3023  POLYGON Z ((126890.842 492959.327 0.000, 12689...  \n",
       "3024  POLYGON Z ((126625.084 492891.611 0.000, 12662...  \n",
       "3025  POLYGON Z ((126650.961 493224.888 0.000, 12665...  \n",
       "3026  POLYGON Z ((127373.919 494141.769 0.000, 12737...  \n",
       "3027  POLYGON Z ((122855.215 495633.891 0.000, 12285...  \n",
       "\n",
       "[3028 rows x 7 columns]"
      ]
     },
     "execution_count": 18,
     "metadata": {},
     "output_type": "execute_result"
    }
   ],
   "source": [
    "farms"
   ]
  },
  {
   "cell_type": "markdown",
   "id": "5edda7aa-bc63-471f-b488-2b0b6cca2e02",
   "metadata": {},
   "source": [
    "\"Category\" and \"Status\" look like important features. Let's assign these to variables for later use and inspect them."
   ]
  },
  {
   "cell_type": "code",
   "execution_count": 19,
   "id": "643e382a-8918-45bf-90b1-5751e4a5bcd7",
   "metadata": {},
   "outputs": [
    {
     "data": {
      "text/plain": [
       "array(['Grasland', 'Overige', 'Natuurterrein', 'Bouwland'], dtype=object)"
      ]
     },
     "execution_count": 19,
     "metadata": {},
     "output_type": "execute_result"
    }
   ],
   "source": [
    "classes = farms['category'].unique()\n",
    "classes"
   ]
  },
  {
   "cell_type": "markdown",
   "id": "23311828-424d-4984-a633-9b995e27cb51",
   "metadata": {},
   "source": [
    "These classes correspond to \n",
    "\n",
    "`'Grassland', 'Other', 'Nature reserve', 'Construction land'`"
   ]
  },
  {
   "cell_type": "code",
   "execution_count": 22,
   "id": "79e2d2b4-3761-46ff-9337-b114d2e2036b",
   "metadata": {},
   "outputs": [
    {
     "data": {
      "text/plain": [
       "array(['Voorgesteld'], dtype=object)"
      ]
     },
     "execution_count": 22,
     "metadata": {},
     "output_type": "execute_result"
    }
   ],
   "source": [
    "status = farms['status'].unique()\n",
    "status"
   ]
  },
  {
   "cell_type": "markdown",
   "id": "6781f11f-f234-488f-953d-6926d4820e7d",
   "metadata": {},
   "source": [
    "'Voorgesteld' translates to \"Proposed\". Since this is a newly released dataset, the features haven't been fully manually reviewed and confirmed like prior years."
   ]
  },
  {
   "cell_type": "markdown",
   "id": "b662cba7-814f-42c3-9fad-961fa5356729",
   "metadata": {},
   "source": [
    "Let's search for and download Sentinel-2 scenes with stackstac that intersect this dataset. Since this dataset is for the year 2021, we will grab scenes during the summer of 2021. First, let's compute the bounding box of our area of interest, in lat,lon coordinates."
   ]
  },
  {
   "cell_type": "code",
   "execution_count": 34,
   "id": "59b7cab6-fac7-4205-a675-5271272defc9",
   "metadata": {},
   "outputs": [],
   "source": [
    "bbox = farms.to_crs(4326).total_bounds"
   ]
  },
  {
   "cell_type": "code",
   "execution_count": 35,
   "id": "1245a155-12d8-46c6-bb5f-4cdb30e7acdf",
   "metadata": {},
   "outputs": [
    {
     "data": {
      "text/plain": [
       "array([ 4.87350746, 52.37275593,  5.08572375, 52.45899119])"
      ]
     },
     "execution_count": 35,
     "metadata": {},
     "output_type": "execute_result"
    }
   ],
   "source": [
    "bbox"
   ]
  },
  {
   "cell_type": "code",
   "execution_count": 36,
   "id": "9ccee5cc-b40c-4d27-8228-497f43975d90",
   "metadata": {},
   "outputs": [],
   "source": [
    "from pystac_client import Client\n",
    "\n",
    "api_url = \"https://earth-search.aws.element84.com/v0\"\n",
    "\n",
    "client = Client.open(api_url)\n",
    "\n",
    "# collection: Sentinel-2, Level 2A, COGs\n",
    "collection = \"sentinel-s2-l2a-cogs\""
   ]
  },
  {
   "cell_type": "code",
   "execution_count": 39,
   "id": "bd53290f-d529-46f0-82bc-73876eb540aa",
   "metadata": {},
   "outputs": [],
   "source": [
    "mysearch = client.search(\n",
    "    collections=[collection],\n",
    "    bbox=bbox,\n",
    "    max_items=10,\n",
    "    datetime=\"2021-06-01/2021-8-31\",\n",
    "    query=[\"eo:cloud_cover<5\"]\n",
    ")"
   ]
  },
  {
   "cell_type": "code",
   "execution_count": 40,
   "id": "ee13929f-f983-4654-98e2-a5719d8d95eb",
   "metadata": {},
   "outputs": [
    {
     "name": "stdout",
     "output_type": "stream",
     "text": [
      "9\n"
     ]
    }
   ],
   "source": [
    "print(mysearch.matched())"
   ]
  },
  {
   "cell_type": "code",
   "execution_count": 41,
   "id": "b690fa6d-6b63-438b-bf99-0e7887bfb8f2",
   "metadata": {},
   "outputs": [],
   "source": [
    "items = mysearch.get_all_items()"
   ]
  },
  {
   "cell_type": "code",
   "execution_count": 42,
   "id": "35b6d0a1-3370-4d84-a891-f117c07e8c69",
   "metadata": {},
   "outputs": [
    {
     "name": "stdout",
     "output_type": "stream",
     "text": [
      "9\n"
     ]
    }
   ],
   "source": [
    "print(len(items))"
   ]
  },
  {
   "cell_type": "code",
   "execution_count": 43,
   "id": "68e31c83-33ee-4bfd-8e17-9b994d7d9dcd",
   "metadata": {},
   "outputs": [
    {
     "name": "stdout",
     "output_type": "stream",
     "text": [
      "<Item id=S2A_31UFU_20211221_0_L2A>\n",
      "<Item id=S2B_31UFU_20211216_0_L2A>\n",
      "<Item id=S2B_31UFU_20211024_0_L2A>\n",
      "<Item id=S2B_31UFU_20211004_1_L2A>\n",
      "<Item id=S2A_31UFU_20210909_0_L2A>\n",
      "<Item id=S2B_31UFU_20210904_0_L2A>\n",
      "<Item id=S2A_31UFU_20210823_0_L2A>\n",
      "<Item id=S2B_31UFU_20210616_0_L2A>\n",
      "<Item id=S2A_31UFU_20210601_0_L2A>\n"
     ]
    }
   ],
   "source": [
    "for item in items:\n",
    "    print(item)"
   ]
  },
  {
   "cell_type": "code",
   "execution_count": 44,
   "id": "a634454b-c748-4a31-afc9-f7fed1f60968",
   "metadata": {},
   "outputs": [
    {
     "name": "stdout",
     "output_type": "stream",
     "text": [
      "2021-12-21 10:56:23+00:00\n",
      "{'type': 'Polygon', 'coordinates': [[[6.071664488869862, 52.22257539160586], [4.464995307918359, 52.25346561204129], [4.498475093400055, 53.24019917467795], [6.1417542968794585, 53.20819279121764], [6.071664488869862, 52.22257539160586]]]}\n",
      "{'datetime': '2021-12-21T10:56:23Z', 'platform': 'sentinel-2a', 'constellation': 'sentinel-2', 'instruments': ['msi'], 'gsd': 10, 'view:off_nadir': 0, 'proj:epsg': 32631, 'sentinel:utm_zone': 31, 'sentinel:latitude_band': 'U', 'sentinel:grid_square': 'FU', 'sentinel:sequence': '0', 'sentinel:product_id': 'S2A_MSIL2A_20211221T105451_N0301_R051_T31UFU_20211221T135048', 'sentinel:data_coverage': 100, 'eo:cloud_cover': 0, 'sentinel:valid_cloud_cover': True, 'created': '2021-12-21T16:58:37.019Z', 'updated': '2021-12-21T16:58:37.019Z'}\n"
     ]
    }
   ],
   "source": [
    "item = items[0]\n",
    "print(item.datetime)\n",
    "print(item.geometry)\n",
    "print(item.properties)"
   ]
  },
  {
   "cell_type": "markdown",
   "id": "b5e79985-5947-4ce7-8070-df73994abec9",
   "metadata": {},
   "source": [
    "Let's save our search details in case we need to know what we queried later."
   ]
  },
  {
   "cell_type": "code",
   "execution_count": 46,
   "id": "d4da951a-f3f3-4e5c-8b18-e0fe3e0db017",
   "metadata": {},
   "outputs": [],
   "source": [
    "items.save_object(\"mysearch.json\")"
   ]
  },
  {
   "cell_type": "markdown",
   "id": "4884a0de-0625-445f-a42f-adcee9d1f46b",
   "metadata": {},
   "source": [
    "We'll use a subset of Sentinel-2's various bands to compute and compre spectral indices for our farms dataset."
   ]
  },
  {
   "cell_type": "code",
   "execution_count": 47,
   "id": "c362be8a-0ba7-40a7-94c4-5cc527eeaecd",
   "metadata": {},
   "outputs": [
    {
     "name": "stdout",
     "output_type": "stream",
     "text": [
      "dict_keys(['thumbnail', 'overview', 'info', 'metadata', 'visual', 'B01', 'B02', 'B03', 'B04', 'B05', 'B06', 'B07', 'B08', 'B8A', 'B09', 'B11', 'B12', 'AOT', 'WVP', 'SCL'])\n"
     ]
    }
   ],
   "source": [
    "assets = items[-1].assets  # last item's asset dictionary\n",
    "print(assets.keys())"
   ]
  },
  {
   "cell_type": "code",
   "execution_count": 48,
   "id": "4d9f71a7-3a44-4df8-a05b-65e2283efa65",
   "metadata": {},
   "outputs": [
    {
     "name": "stdout",
     "output_type": "stream",
     "text": [
      "thumbnail: Thumbnail\n",
      "overview: True color image\n",
      "info: Original JSON metadata\n",
      "metadata: Original XML metadata\n",
      "visual: True color image\n",
      "B01: Band 1 (coastal)\n",
      "B02: Band 2 (blue)\n",
      "B03: Band 3 (green)\n",
      "B04: Band 4 (red)\n",
      "B05: Band 5\n",
      "B06: Band 6\n",
      "B07: Band 7\n",
      "B08: Band 8 (nir)\n",
      "B8A: Band 8A\n",
      "B09: Band 9\n",
      "B11: Band 11 (swir16)\n",
      "B12: Band 12 (swir22)\n",
      "AOT: Aerosol Optical Thickness (AOT)\n",
      "WVP: Water Vapour (WVP)\n",
      "SCL: Scene Classification Map (SCL)\n"
     ]
    }
   ],
   "source": [
    "for key, asset in assets.items():\n",
    "    print(f\"{key}: {asset.title}\")"
   ]
  },
  {
   "cell_type": "code",
   "execution_count": 49,
   "id": "7f092e6f-6087-4de8-bd02-07d46528c343",
   "metadata": {},
   "outputs": [
    {
     "name": "stdout",
     "output_type": "stream",
     "text": [
      "https://roda.sentinel-hub.com/sentinel-s2-l1c/tiles/31/U/FU/2021/6/1/0/preview.jpg\n"
     ]
    }
   ],
   "source": [
    "print(assets[\"thumbnail\"].href)"
   ]
  },
  {
   "cell_type": "markdown",
   "id": "41b72639-d259-48b7-ae4d-dde5d8371744",
   "metadata": {},
   "source": [
    "A Sentinel-2 image is quite large. Instead of using `.rio.clip_box()` as in the last epsidoe, we can read data using rasterio's `Window` class to only grab the data we need. Befor edoing so, it helps to check the block size fo the raster..."
   ]
  },
  {
   "cell_type": "code",
   "execution_count": 56,
   "id": "3977f2b2-f4de-40fa-933d-6ad741ae7ddd",
   "metadata": {},
   "outputs": [
    {
     "ename": "NameError",
     "evalue": "name 'red_href' is not defined",
     "output_type": "error",
     "traceback": [
      "\u001b[0;31m---------------------------------------------------------------------------\u001b[0m",
      "\u001b[0;31mNameError\u001b[0m                                 Traceback (most recent call last)",
      "\u001b[0;32m/tmp/ipykernel_8556/3085057114.py\u001b[0m in \u001b[0;36m<module>\u001b[0;34m\u001b[0m\n\u001b[0;32m----> 1\u001b[0;31m \u001b[0mrioxarray\u001b[0m\u001b[0;34m.\u001b[0m\u001b[0mopen_rasterio\u001b[0m\u001b[0;34m(\u001b[0m\u001b[0mred_href\u001b[0m\u001b[0;34m)\u001b[0m\u001b[0;34m\u001b[0m\u001b[0;34m\u001b[0m\u001b[0m\n\u001b[0m",
      "\u001b[0;31mNameError\u001b[0m: name 'red_href' is not defined"
     ]
    }
   ],
   "source": []
  },
  {
   "cell_type": "markdown",
   "id": "dbd8884d-59dd-4e4e-9280-6ea57bd415a9",
   "metadata": {},
   "source": [
    "And to define the window area we want to read in terms of pixel coordinates. We can use rasterio/rioxarray's transform functionality to convert our `bbox` from geographic coordinates to utm coordinates (the projection of our rasters) and finally convert to pixel coordinates (the unit necessary for windowed reads)."
   ]
  },
  {
   "cell_type": "code",
   "execution_count": 64,
   "id": "b14e1e90-d880-4c37-9f4b-777e360257fa",
   "metadata": {},
   "outputs": [
    {
     "data": {
      "text/plain": [
       "Affine(10.0, 0.0, 600000.0,\n",
       "       0.0, -10.0, 5900040.0)"
      ]
     },
     "execution_count": 64,
     "metadata": {},
     "output_type": "execute_result"
    }
   ],
   "source": [
    "transform"
   ]
  },
  {
   "cell_type": "code",
   "execution_count": 69,
   "id": "f94b5759-ae52-4957-84ee-0aafa12ebec1",
   "metadata": {},
   "outputs": [
    {
     "data": {
      "text/plain": [
       "<Projected CRS: EPSG:28992>\n",
       "Name: Amersfoort / RD New\n",
       "Axis Info [cartesian]:\n",
       "- X[east]: Easting (metre)\n",
       "- Y[north]: Northing (metre)\n",
       "Area of Use:\n",
       "- name: Netherlands - onshore, including Waddenzee, Dutch Wadden Islands and 12-mile offshore coastal zone.\n",
       "- bounds: (3.2, 50.75, 7.22, 53.7)\n",
       "Coordinate Operation:\n",
       "- name: RD New\n",
       "- method: Oblique Stereographic\n",
       "Datum: Amersfoort\n",
       "- Ellipsoid: Bessel 1841\n",
       "- Prime Meridian: Greenwich"
      ]
     },
     "execution_count": 69,
     "metadata": {},
     "output_type": "execute_result"
    }
   ],
   "source": [
    "farms.crs"
   ]
  },
  {
   "cell_type": "code",
   "execution_count": 71,
   "id": "c481b4b5-24d5-45d3-834e-05486d12519b",
   "metadata": {},
   "outputs": [],
   "source": [
    "bbox_utm = farms.to_crs(32631).total_bounds"
   ]
  },
  {
   "cell_type": "code",
   "execution_count": 80,
   "id": "3f5115d4-34d7-463b-84bd-c5d32d94c8b4",
   "metadata": {},
   "outputs": [
    {
     "data": {
      "text/plain": [
       "[2, 4, 8, 16]"
      ]
     },
     "execution_count": 80,
     "metadata": {},
     "output_type": "execute_result"
    }
   ],
   "source": [
    "rasterio.open(red_href).overviews(1)"
   ]
  },
  {
   "cell_type": "code",
   "execution_count": 73,
   "id": "9738ea5c-f288-407f-88ef-e9a97bdc5c3f",
   "metadata": {},
   "outputs": [],
   "source": [
    "from rasterio.windows import Window\n",
    "import rasterio\n",
    "red_href = assets[\"B04\"].href\n",
    "nir_href = assets[\"B08\"].href\n",
    "transform = rioxarray.open_rasterio(red_href).rio.transform()\n",
    "window_of_interest = rasterio.windows.from_bounds(*bbox_utm, transform=transform)"
   ]
  },
  {
   "cell_type": "code",
   "execution_count": 83,
   "id": "8455f528-a7ed-48c7-bef4-0b65e10a189f",
   "metadata": {},
   "outputs": [
    {
     "data": {
      "text/plain": [
       "Window(col_off=2730.5694674572223, row_off=8629.521067048307, width=1448.0200055093737, height=934.8902779202908)"
      ]
     },
     "execution_count": 83,
     "metadata": {},
     "output_type": "execute_result"
    }
   ],
   "source": [
    "window_of_interest"
   ]
  },
  {
   "cell_type": "markdown",
   "id": "29afd8ab-ea2a-4da8-8c07-e0f7a0f56bc9",
   "metadata": {},
   "source": [
    "# TODO having some problems here. this reads the full size image for some reason rather than the window.\n",
    "\n",
    "looking to accomplish this, but with rioxarray: https://gis.stackexchange.com/questions/336874/get-a-window-from-a-raster-in-rasterio-using-coordinates-instead-of-row-column-o"
   ]
  },
  {
   "cell_type": "code",
   "execution_count": 76,
   "id": "b74cb35d-d4be-4406-b8d6-f9213729181b",
   "metadata": {},
   "outputs": [
    {
     "data": {
      "text/html": [
       "<div><svg style=\"position: absolute; width: 0; height: 0; overflow: hidden\">\n",
       "<defs>\n",
       "<symbol id=\"icon-database\" viewBox=\"0 0 32 32\">\n",
       "<path d=\"M16 0c-8.837 0-16 2.239-16 5v4c0 2.761 7.163 5 16 5s16-2.239 16-5v-4c0-2.761-7.163-5-16-5z\"></path>\n",
       "<path d=\"M16 17c-8.837 0-16-2.239-16-5v6c0 2.761 7.163 5 16 5s16-2.239 16-5v-6c0 2.761-7.163 5-16 5z\"></path>\n",
       "<path d=\"M16 26c-8.837 0-16-2.239-16-5v6c0 2.761 7.163 5 16 5s16-2.239 16-5v-6c0 2.761-7.163 5-16 5z\"></path>\n",
       "</symbol>\n",
       "<symbol id=\"icon-file-text2\" viewBox=\"0 0 32 32\">\n",
       "<path d=\"M28.681 7.159c-0.694-0.947-1.662-2.053-2.724-3.116s-2.169-2.030-3.116-2.724c-1.612-1.182-2.393-1.319-2.841-1.319h-15.5c-1.378 0-2.5 1.121-2.5 2.5v27c0 1.378 1.122 2.5 2.5 2.5h23c1.378 0 2.5-1.122 2.5-2.5v-19.5c0-0.448-0.137-1.23-1.319-2.841zM24.543 5.457c0.959 0.959 1.712 1.825 2.268 2.543h-4.811v-4.811c0.718 0.556 1.584 1.309 2.543 2.268zM28 29.5c0 0.271-0.229 0.5-0.5 0.5h-23c-0.271 0-0.5-0.229-0.5-0.5v-27c0-0.271 0.229-0.5 0.5-0.5 0 0 15.499-0 15.5 0v7c0 0.552 0.448 1 1 1h7v19.5z\"></path>\n",
       "<path d=\"M23 26h-14c-0.552 0-1-0.448-1-1s0.448-1 1-1h14c0.552 0 1 0.448 1 1s-0.448 1-1 1z\"></path>\n",
       "<path d=\"M23 22h-14c-0.552 0-1-0.448-1-1s0.448-1 1-1h14c0.552 0 1 0.448 1 1s-0.448 1-1 1z\"></path>\n",
       "<path d=\"M23 18h-14c-0.552 0-1-0.448-1-1s0.448-1 1-1h14c0.552 0 1 0.448 1 1s-0.448 1-1 1z\"></path>\n",
       "</symbol>\n",
       "</defs>\n",
       "</svg>\n",
       "<style>/* CSS stylesheet for displaying xarray objects in jupyterlab.\n",
       " *\n",
       " */\n",
       "\n",
       ":root {\n",
       "  --xr-font-color0: var(--jp-content-font-color0, rgba(0, 0, 0, 1));\n",
       "  --xr-font-color2: var(--jp-content-font-color2, rgba(0, 0, 0, 0.54));\n",
       "  --xr-font-color3: var(--jp-content-font-color3, rgba(0, 0, 0, 0.38));\n",
       "  --xr-border-color: var(--jp-border-color2, #e0e0e0);\n",
       "  --xr-disabled-color: var(--jp-layout-color3, #bdbdbd);\n",
       "  --xr-background-color: var(--jp-layout-color0, white);\n",
       "  --xr-background-color-row-even: var(--jp-layout-color1, white);\n",
       "  --xr-background-color-row-odd: var(--jp-layout-color2, #eeeeee);\n",
       "}\n",
       "\n",
       "html[theme=dark],\n",
       "body.vscode-dark {\n",
       "  --xr-font-color0: rgba(255, 255, 255, 1);\n",
       "  --xr-font-color2: rgba(255, 255, 255, 0.54);\n",
       "  --xr-font-color3: rgba(255, 255, 255, 0.38);\n",
       "  --xr-border-color: #1F1F1F;\n",
       "  --xr-disabled-color: #515151;\n",
       "  --xr-background-color: #111111;\n",
       "  --xr-background-color-row-even: #111111;\n",
       "  --xr-background-color-row-odd: #313131;\n",
       "}\n",
       "\n",
       ".xr-wrap {\n",
       "  display: block;\n",
       "  min-width: 300px;\n",
       "  max-width: 700px;\n",
       "}\n",
       "\n",
       ".xr-text-repr-fallback {\n",
       "  /* fallback to plain text repr when CSS is not injected (untrusted notebook) */\n",
       "  display: none;\n",
       "}\n",
       "\n",
       ".xr-header {\n",
       "  padding-top: 6px;\n",
       "  padding-bottom: 6px;\n",
       "  margin-bottom: 4px;\n",
       "  border-bottom: solid 1px var(--xr-border-color);\n",
       "}\n",
       "\n",
       ".xr-header > div,\n",
       ".xr-header > ul {\n",
       "  display: inline;\n",
       "  margin-top: 0;\n",
       "  margin-bottom: 0;\n",
       "}\n",
       "\n",
       ".xr-obj-type,\n",
       ".xr-array-name {\n",
       "  margin-left: 2px;\n",
       "  margin-right: 10px;\n",
       "}\n",
       "\n",
       ".xr-obj-type {\n",
       "  color: var(--xr-font-color2);\n",
       "}\n",
       "\n",
       ".xr-sections {\n",
       "  padding-left: 0 !important;\n",
       "  display: grid;\n",
       "  grid-template-columns: 150px auto auto 1fr 20px 20px;\n",
       "}\n",
       "\n",
       ".xr-section-item {\n",
       "  display: contents;\n",
       "}\n",
       "\n",
       ".xr-section-item input {\n",
       "  display: none;\n",
       "}\n",
       "\n",
       ".xr-section-item input + label {\n",
       "  color: var(--xr-disabled-color);\n",
       "}\n",
       "\n",
       ".xr-section-item input:enabled + label {\n",
       "  cursor: pointer;\n",
       "  color: var(--xr-font-color2);\n",
       "}\n",
       "\n",
       ".xr-section-item input:enabled + label:hover {\n",
       "  color: var(--xr-font-color0);\n",
       "}\n",
       "\n",
       ".xr-section-summary {\n",
       "  grid-column: 1;\n",
       "  color: var(--xr-font-color2);\n",
       "  font-weight: 500;\n",
       "}\n",
       "\n",
       ".xr-section-summary > span {\n",
       "  display: inline-block;\n",
       "  padding-left: 0.5em;\n",
       "}\n",
       "\n",
       ".xr-section-summary-in:disabled + label {\n",
       "  color: var(--xr-font-color2);\n",
       "}\n",
       "\n",
       ".xr-section-summary-in + label:before {\n",
       "  display: inline-block;\n",
       "  content: '►';\n",
       "  font-size: 11px;\n",
       "  width: 15px;\n",
       "  text-align: center;\n",
       "}\n",
       "\n",
       ".xr-section-summary-in:disabled + label:before {\n",
       "  color: var(--xr-disabled-color);\n",
       "}\n",
       "\n",
       ".xr-section-summary-in:checked + label:before {\n",
       "  content: '▼';\n",
       "}\n",
       "\n",
       ".xr-section-summary-in:checked + label > span {\n",
       "  display: none;\n",
       "}\n",
       "\n",
       ".xr-section-summary,\n",
       ".xr-section-inline-details {\n",
       "  padding-top: 4px;\n",
       "  padding-bottom: 4px;\n",
       "}\n",
       "\n",
       ".xr-section-inline-details {\n",
       "  grid-column: 2 / -1;\n",
       "}\n",
       "\n",
       ".xr-section-details {\n",
       "  display: none;\n",
       "  grid-column: 1 / -1;\n",
       "  margin-bottom: 5px;\n",
       "}\n",
       "\n",
       ".xr-section-summary-in:checked ~ .xr-section-details {\n",
       "  display: contents;\n",
       "}\n",
       "\n",
       ".xr-array-wrap {\n",
       "  grid-column: 1 / -1;\n",
       "  display: grid;\n",
       "  grid-template-columns: 20px auto;\n",
       "}\n",
       "\n",
       ".xr-array-wrap > label {\n",
       "  grid-column: 1;\n",
       "  vertical-align: top;\n",
       "}\n",
       "\n",
       ".xr-preview {\n",
       "  color: var(--xr-font-color3);\n",
       "}\n",
       "\n",
       ".xr-array-preview,\n",
       ".xr-array-data {\n",
       "  padding: 0 5px !important;\n",
       "  grid-column: 2;\n",
       "}\n",
       "\n",
       ".xr-array-data,\n",
       ".xr-array-in:checked ~ .xr-array-preview {\n",
       "  display: none;\n",
       "}\n",
       "\n",
       ".xr-array-in:checked ~ .xr-array-data,\n",
       ".xr-array-preview {\n",
       "  display: inline-block;\n",
       "}\n",
       "\n",
       ".xr-dim-list {\n",
       "  display: inline-block !important;\n",
       "  list-style: none;\n",
       "  padding: 0 !important;\n",
       "  margin: 0;\n",
       "}\n",
       "\n",
       ".xr-dim-list li {\n",
       "  display: inline-block;\n",
       "  padding: 0;\n",
       "  margin: 0;\n",
       "}\n",
       "\n",
       ".xr-dim-list:before {\n",
       "  content: '(';\n",
       "}\n",
       "\n",
       ".xr-dim-list:after {\n",
       "  content: ')';\n",
       "}\n",
       "\n",
       ".xr-dim-list li:not(:last-child):after {\n",
       "  content: ',';\n",
       "  padding-right: 5px;\n",
       "}\n",
       "\n",
       ".xr-has-index {\n",
       "  font-weight: bold;\n",
       "}\n",
       "\n",
       ".xr-var-list,\n",
       ".xr-var-item {\n",
       "  display: contents;\n",
       "}\n",
       "\n",
       ".xr-var-item > div,\n",
       ".xr-var-item label,\n",
       ".xr-var-item > .xr-var-name span {\n",
       "  background-color: var(--xr-background-color-row-even);\n",
       "  margin-bottom: 0;\n",
       "}\n",
       "\n",
       ".xr-var-item > .xr-var-name:hover span {\n",
       "  padding-right: 5px;\n",
       "}\n",
       "\n",
       ".xr-var-list > li:nth-child(odd) > div,\n",
       ".xr-var-list > li:nth-child(odd) > label,\n",
       ".xr-var-list > li:nth-child(odd) > .xr-var-name span {\n",
       "  background-color: var(--xr-background-color-row-odd);\n",
       "}\n",
       "\n",
       ".xr-var-name {\n",
       "  grid-column: 1;\n",
       "}\n",
       "\n",
       ".xr-var-dims {\n",
       "  grid-column: 2;\n",
       "}\n",
       "\n",
       ".xr-var-dtype {\n",
       "  grid-column: 3;\n",
       "  text-align: right;\n",
       "  color: var(--xr-font-color2);\n",
       "}\n",
       "\n",
       ".xr-var-preview {\n",
       "  grid-column: 4;\n",
       "}\n",
       "\n",
       ".xr-var-name,\n",
       ".xr-var-dims,\n",
       ".xr-var-dtype,\n",
       ".xr-preview,\n",
       ".xr-attrs dt {\n",
       "  white-space: nowrap;\n",
       "  overflow: hidden;\n",
       "  text-overflow: ellipsis;\n",
       "  padding-right: 10px;\n",
       "}\n",
       "\n",
       ".xr-var-name:hover,\n",
       ".xr-var-dims:hover,\n",
       ".xr-var-dtype:hover,\n",
       ".xr-attrs dt:hover {\n",
       "  overflow: visible;\n",
       "  width: auto;\n",
       "  z-index: 1;\n",
       "}\n",
       "\n",
       ".xr-var-attrs,\n",
       ".xr-var-data {\n",
       "  display: none;\n",
       "  background-color: var(--xr-background-color) !important;\n",
       "  padding-bottom: 5px !important;\n",
       "}\n",
       "\n",
       ".xr-var-attrs-in:checked ~ .xr-var-attrs,\n",
       ".xr-var-data-in:checked ~ .xr-var-data {\n",
       "  display: block;\n",
       "}\n",
       "\n",
       ".xr-var-data > table {\n",
       "  float: right;\n",
       "}\n",
       "\n",
       ".xr-var-name span,\n",
       ".xr-var-data,\n",
       ".xr-attrs {\n",
       "  padding-left: 25px !important;\n",
       "}\n",
       "\n",
       ".xr-attrs,\n",
       ".xr-var-attrs,\n",
       ".xr-var-data {\n",
       "  grid-column: 1 / -1;\n",
       "}\n",
       "\n",
       "dl.xr-attrs {\n",
       "  padding: 0;\n",
       "  margin: 0;\n",
       "  display: grid;\n",
       "  grid-template-columns: 125px auto;\n",
       "}\n",
       "\n",
       ".xr-attrs dt,\n",
       ".xr-attrs dd {\n",
       "  padding: 0;\n",
       "  margin: 0;\n",
       "  float: left;\n",
       "  padding-right: 10px;\n",
       "  width: auto;\n",
       "}\n",
       "\n",
       ".xr-attrs dt {\n",
       "  font-weight: normal;\n",
       "  grid-column: 1;\n",
       "}\n",
       "\n",
       ".xr-attrs dt:hover span {\n",
       "  display: inline-block;\n",
       "  background: var(--xr-background-color);\n",
       "  padding-right: 10px;\n",
       "}\n",
       "\n",
       ".xr-attrs dd {\n",
       "  grid-column: 2;\n",
       "  white-space: pre-wrap;\n",
       "  word-break: break-all;\n",
       "}\n",
       "\n",
       ".xr-icon-database,\n",
       ".xr-icon-file-text2 {\n",
       "  display: inline-block;\n",
       "  vertical-align: middle;\n",
       "  width: 1em;\n",
       "  height: 1.5em !important;\n",
       "  stroke-width: 0;\n",
       "  stroke: currentColor;\n",
       "  fill: currentColor;\n",
       "}\n",
       "</style><pre class='xr-text-repr-fallback'>&lt;xarray.DataArray (band: 1, y: 10980, x: 10980)&gt;\n",
       "[120560400 values with dtype=uint16]\n",
       "Coordinates:\n",
       "  * band         (band) int64 1\n",
       "  * x            (x) float64 6e+05 6e+05 6e+05 ... 7.098e+05 7.098e+05 7.098e+05\n",
       "  * y            (y) float64 5.9e+06 5.9e+06 5.9e+06 ... 5.79e+06 5.79e+06\n",
       "    spatial_ref  int64 0\n",
       "Attributes:\n",
       "    _FillValue:    0.0\n",
       "    scale_factor:  1.0\n",
       "    add_offset:    0.0</pre><div class='xr-wrap' hidden><div class='xr-header'><div class='xr-obj-type'>xarray.DataArray</div><div class='xr-array-name'></div><ul class='xr-dim-list'><li><span class='xr-has-index'>band</span>: 1</li><li><span class='xr-has-index'>y</span>: 10980</li><li><span class='xr-has-index'>x</span>: 10980</li></ul></div><ul class='xr-sections'><li class='xr-section-item'><div class='xr-array-wrap'><input id='section-db859553-fc57-4006-88a9-0e62569839c5' class='xr-array-in' type='checkbox' checked><label for='section-db859553-fc57-4006-88a9-0e62569839c5' title='Show/hide data repr'><svg class='icon xr-icon-database'><use xlink:href='#icon-database'></use></svg></label><div class='xr-array-preview xr-preview'><span>...</span></div><div class='xr-array-data'><pre>[120560400 values with dtype=uint16]</pre></div></div></li><li class='xr-section-item'><input id='section-0b16b3e5-e627-4a70-9332-9939c4ebf08e' class='xr-section-summary-in' type='checkbox'  checked><label for='section-0b16b3e5-e627-4a70-9332-9939c4ebf08e' class='xr-section-summary' >Coordinates: <span>(4)</span></label><div class='xr-section-inline-details'></div><div class='xr-section-details'><ul class='xr-var-list'><li class='xr-var-item'><div class='xr-var-name'><span class='xr-has-index'>band</span></div><div class='xr-var-dims'>(band)</div><div class='xr-var-dtype'>int64</div><div class='xr-var-preview xr-preview'>1</div><input id='attrs-c4d8099e-ea2b-4d43-8f10-77e4142dabf9' class='xr-var-attrs-in' type='checkbox' disabled><label for='attrs-c4d8099e-ea2b-4d43-8f10-77e4142dabf9' title='Show/Hide attributes'><svg class='icon xr-icon-file-text2'><use xlink:href='#icon-file-text2'></use></svg></label><input id='data-68d61582-b3de-49fb-b4be-ce56c92ff741' class='xr-var-data-in' type='checkbox'><label for='data-68d61582-b3de-49fb-b4be-ce56c92ff741' title='Show/Hide data repr'><svg class='icon xr-icon-database'><use xlink:href='#icon-database'></use></svg></label><div class='xr-var-attrs'><dl class='xr-attrs'></dl></div><div class='xr-var-data'><pre>array([1])</pre></div></li><li class='xr-var-item'><div class='xr-var-name'><span class='xr-has-index'>x</span></div><div class='xr-var-dims'>(x)</div><div class='xr-var-dtype'>float64</div><div class='xr-var-preview xr-preview'>6e+05 6e+05 ... 7.098e+05 7.098e+05</div><input id='attrs-afd147fe-e664-4b62-b1e6-f3f5692572eb' class='xr-var-attrs-in' type='checkbox' disabled><label for='attrs-afd147fe-e664-4b62-b1e6-f3f5692572eb' title='Show/Hide attributes'><svg class='icon xr-icon-file-text2'><use xlink:href='#icon-file-text2'></use></svg></label><input id='data-e0c3f0dc-a28f-4a4b-90d0-09a10ea4c864' class='xr-var-data-in' type='checkbox'><label for='data-e0c3f0dc-a28f-4a4b-90d0-09a10ea4c864' title='Show/Hide data repr'><svg class='icon xr-icon-database'><use xlink:href='#icon-database'></use></svg></label><div class='xr-var-attrs'><dl class='xr-attrs'></dl></div><div class='xr-var-data'><pre>array([600005., 600015., 600025., ..., 709775., 709785., 709795.])</pre></div></li><li class='xr-var-item'><div class='xr-var-name'><span class='xr-has-index'>y</span></div><div class='xr-var-dims'>(y)</div><div class='xr-var-dtype'>float64</div><div class='xr-var-preview xr-preview'>5.9e+06 5.9e+06 ... 5.79e+06</div><input id='attrs-d8a938a0-4a12-4b29-ac76-9ae148eb89d5' class='xr-var-attrs-in' type='checkbox' disabled><label for='attrs-d8a938a0-4a12-4b29-ac76-9ae148eb89d5' title='Show/Hide attributes'><svg class='icon xr-icon-file-text2'><use xlink:href='#icon-file-text2'></use></svg></label><input id='data-c14c0a6b-34d8-4078-874f-fc2c9caaf61a' class='xr-var-data-in' type='checkbox'><label for='data-c14c0a6b-34d8-4078-874f-fc2c9caaf61a' title='Show/Hide data repr'><svg class='icon xr-icon-database'><use xlink:href='#icon-database'></use></svg></label><div class='xr-var-attrs'><dl class='xr-attrs'></dl></div><div class='xr-var-data'><pre>array([5900035., 5900025., 5900015., ..., 5790265., 5790255., 5790245.])</pre></div></li><li class='xr-var-item'><div class='xr-var-name'><span>spatial_ref</span></div><div class='xr-var-dims'>()</div><div class='xr-var-dtype'>int64</div><div class='xr-var-preview xr-preview'>0</div><input id='attrs-7c184d15-de17-4fd2-bd30-87dcf0adb16a' class='xr-var-attrs-in' type='checkbox' ><label for='attrs-7c184d15-de17-4fd2-bd30-87dcf0adb16a' title='Show/Hide attributes'><svg class='icon xr-icon-file-text2'><use xlink:href='#icon-file-text2'></use></svg></label><input id='data-69964a14-c556-4b4c-a8f9-6d19bd9ba1c8' class='xr-var-data-in' type='checkbox'><label for='data-69964a14-c556-4b4c-a8f9-6d19bd9ba1c8' title='Show/Hide data repr'><svg class='icon xr-icon-database'><use xlink:href='#icon-database'></use></svg></label><div class='xr-var-attrs'><dl class='xr-attrs'><dt><span>crs_wkt :</span></dt><dd>PROJCS[&quot;WGS 84 / UTM zone 31N&quot;,GEOGCS[&quot;WGS 84&quot;,DATUM[&quot;WGS_1984&quot;,SPHEROID[&quot;WGS 84&quot;,6378137,298.257223563,AUTHORITY[&quot;EPSG&quot;,&quot;7030&quot;]],AUTHORITY[&quot;EPSG&quot;,&quot;6326&quot;]],PRIMEM[&quot;Greenwich&quot;,0,AUTHORITY[&quot;EPSG&quot;,&quot;8901&quot;]],UNIT[&quot;degree&quot;,0.0174532925199433,AUTHORITY[&quot;EPSG&quot;,&quot;9122&quot;]],AUTHORITY[&quot;EPSG&quot;,&quot;4326&quot;]],PROJECTION[&quot;Transverse_Mercator&quot;],PARAMETER[&quot;latitude_of_origin&quot;,0],PARAMETER[&quot;central_meridian&quot;,3],PARAMETER[&quot;scale_factor&quot;,0.9996],PARAMETER[&quot;false_easting&quot;,500000],PARAMETER[&quot;false_northing&quot;,0],UNIT[&quot;metre&quot;,1,AUTHORITY[&quot;EPSG&quot;,&quot;9001&quot;]],AXIS[&quot;Easting&quot;,EAST],AXIS[&quot;Northing&quot;,NORTH],AUTHORITY[&quot;EPSG&quot;,&quot;32631&quot;]]</dd><dt><span>semi_major_axis :</span></dt><dd>6378137.0</dd><dt><span>semi_minor_axis :</span></dt><dd>6356752.314245179</dd><dt><span>inverse_flattening :</span></dt><dd>298.257223563</dd><dt><span>reference_ellipsoid_name :</span></dt><dd>WGS 84</dd><dt><span>longitude_of_prime_meridian :</span></dt><dd>0.0</dd><dt><span>prime_meridian_name :</span></dt><dd>Greenwich</dd><dt><span>geographic_crs_name :</span></dt><dd>WGS 84</dd><dt><span>horizontal_datum_name :</span></dt><dd>World Geodetic System 1984</dd><dt><span>projected_crs_name :</span></dt><dd>WGS 84 / UTM zone 31N</dd><dt><span>grid_mapping_name :</span></dt><dd>transverse_mercator</dd><dt><span>latitude_of_projection_origin :</span></dt><dd>0.0</dd><dt><span>longitude_of_central_meridian :</span></dt><dd>3.0</dd><dt><span>false_easting :</span></dt><dd>500000.0</dd><dt><span>false_northing :</span></dt><dd>0.0</dd><dt><span>scale_factor_at_central_meridian :</span></dt><dd>0.9996</dd><dt><span>spatial_ref :</span></dt><dd>PROJCS[&quot;WGS 84 / UTM zone 31N&quot;,GEOGCS[&quot;WGS 84&quot;,DATUM[&quot;WGS_1984&quot;,SPHEROID[&quot;WGS 84&quot;,6378137,298.257223563,AUTHORITY[&quot;EPSG&quot;,&quot;7030&quot;]],AUTHORITY[&quot;EPSG&quot;,&quot;6326&quot;]],PRIMEM[&quot;Greenwich&quot;,0,AUTHORITY[&quot;EPSG&quot;,&quot;8901&quot;]],UNIT[&quot;degree&quot;,0.0174532925199433,AUTHORITY[&quot;EPSG&quot;,&quot;9122&quot;]],AUTHORITY[&quot;EPSG&quot;,&quot;4326&quot;]],PROJECTION[&quot;Transverse_Mercator&quot;],PARAMETER[&quot;latitude_of_origin&quot;,0],PARAMETER[&quot;central_meridian&quot;,3],PARAMETER[&quot;scale_factor&quot;,0.9996],PARAMETER[&quot;false_easting&quot;,500000],PARAMETER[&quot;false_northing&quot;,0],UNIT[&quot;metre&quot;,1,AUTHORITY[&quot;EPSG&quot;,&quot;9001&quot;]],AXIS[&quot;Easting&quot;,EAST],AXIS[&quot;Northing&quot;,NORTH],AUTHORITY[&quot;EPSG&quot;,&quot;32631&quot;]]</dd><dt><span>GeoTransform :</span></dt><dd>600000.0 10.0 0.0 5900040.0 0.0 -10.0</dd></dl></div><div class='xr-var-data'><pre>array(0)</pre></div></li></ul></div></li><li class='xr-section-item'><input id='section-b61c6217-7108-4c76-b115-420a763e2931' class='xr-section-summary-in' type='checkbox'  checked><label for='section-b61c6217-7108-4c76-b115-420a763e2931' class='xr-section-summary' >Attributes: <span>(3)</span></label><div class='xr-section-inline-details'></div><div class='xr-section-details'><dl class='xr-attrs'><dt><span>_FillValue :</span></dt><dd>0.0</dd><dt><span>scale_factor :</span></dt><dd>1.0</dd><dt><span>add_offset :</span></dt><dd>0.0</dd></dl></div></li></ul></div></div>"
      ],
      "text/plain": [
       "<xarray.DataArray (band: 1, y: 10980, x: 10980)>\n",
       "[120560400 values with dtype=uint16]\n",
       "Coordinates:\n",
       "  * band         (band) int64 1\n",
       "  * x            (x) float64 6e+05 6e+05 6e+05 ... 7.098e+05 7.098e+05 7.098e+05\n",
       "  * y            (y) float64 5.9e+06 5.9e+06 5.9e+06 ... 5.79e+06 5.79e+06\n",
       "    spatial_ref  int64 0\n",
       "Attributes:\n",
       "    _FillValue:    0.0\n",
       "    scale_factor:  1.0\n",
       "    add_offset:    0.0"
      ]
     },
     "execution_count": 76,
     "metadata": {},
     "output_type": "execute_result"
    }
   ],
   "source": [
    "rioxarray.open_rasterio(red_href, window=window_of_interest, windowed=True)"
   ]
  },
  {
   "cell_type": "code",
   "execution_count": null,
   "id": "9ede039d-d2c0-4924-889d-d1bcbdaab02e",
   "metadata": {},
   "outputs": [],
   "source": []
  }
 ],
 "metadata": {
  "kernelspec": {
   "display_name": "Python [conda env:geospatial]",
   "language": "python",
   "name": "conda-env-geospatial-py"
  },
  "language_info": {
   "codemirror_mode": {
    "name": "ipython",
    "version": 3
   },
   "file_extension": ".py",
   "mimetype": "text/x-python",
   "name": "python",
   "nbconvert_exporter": "python",
   "pygments_lexer": "ipython3",
   "version": "3.9.7"
  }
 },
 "nbformat": 4,
 "nbformat_minor": 5
}
